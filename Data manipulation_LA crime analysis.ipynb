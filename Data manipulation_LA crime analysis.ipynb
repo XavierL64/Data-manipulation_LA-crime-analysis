{
 "cells": [
  {
   "cell_type": "code",
   "execution_count": 1,
   "id": "9ae39b14",
   "metadata": {},
   "outputs": [],
   "source": [
    "# Import required libraries\n",
    "\n",
    "import pandas as pd\n",
    "import numpy as np\n",
    "import matplotlib.pyplot as plt\n",
    "import seaborn as sns\n",
    "crimes = pd.read_csv(\"crimes.csv\", parse_dates=[\"Date Rptd\", \"DATE OCC\"], dtype={\"TIME OCC\": str})"
   ]
  },
  {
   "cell_type": "code",
   "execution_count": 2,
   "id": "e979e26a",
   "metadata": {},
   "outputs": [
    {
     "data": {
      "text/plain": [
       "12"
      ]
     },
     "execution_count": 2,
     "metadata": {},
     "output_type": "execute_result"
    }
   ],
   "source": [
    "# Find hour with highest frequency of crimes\n",
    "\n",
    "crimes['time'] = pd.to_datetime(crimes['TIME OCC'], format='%H%M')\n",
    "crimes['hour'] = crimes['time'].dt.hour\n",
    "peak_crime_hour = crimes['hour'].mode()[0]\n",
    "peak_crime_hour"
   ]
  },
  {
   "cell_type": "code",
   "execution_count": 3,
   "id": "726d869f",
   "metadata": {},
   "outputs": [
    {
     "data": {
      "text/plain": [
       "'Central'"
      ]
     },
     "execution_count": 3,
     "metadata": {},
     "output_type": "execute_result"
    }
   ],
   "source": [
    "# Find area that has the highest frequency of night crimes (crimes committed between 10pm and 3:59am)\n",
    "\n",
    "crimes_night = crimes[(crimes['hour'] >= 22) | (crimes['hour'] < 4)]\n",
    "peak_night_crime_location = crimes_night['AREA NAME'].mode()[0]\n",
    "peak_night_crime_location"
   ]
  },
  {
   "cell_type": "code",
   "execution_count": 4,
   "id": "73a7c427",
   "metadata": {},
   "outputs": [
    {
     "data": {
      "text/plain": [
       "age_group\n",
       "<18       4528\n",
       "18-25    28291\n",
       "26-34    47470\n",
       "35-44    42157\n",
       "45-54    28353\n",
       "55-64    20169\n",
       "65+      14747\n",
       "Name: age_group, dtype: int64"
      ]
     },
     "execution_count": 4,
     "metadata": {},
     "output_type": "execute_result"
    }
   ],
   "source": [
    "# Identify the number of crimes committed against victims by age group (<18, 18-25, 26-34, 35-44, 45-54, 55-64, 65+)\n",
    "\n",
    "labels = ['<18', '18-25', '26-34', '35-44', '45-54', '55-64', '65+']\n",
    "bins = [0, 17, 25, 34, 44, 54, 64, float('inf')]\n",
    "crimes['age_group'] = pd.cut(crimes['Vict Age'], labels=labels, bins=bins)\n",
    "victim_ages = crimes.groupby('age_group')['age_group'].count()\n",
    "victim_ages"
   ]
  }
 ],
 "metadata": {
  "kernelspec": {
   "display_name": "Python 3 (ipykernel)",
   "language": "python",
   "name": "python3"
  },
  "language_info": {
   "codemirror_mode": {
    "name": "ipython",
    "version": 3
   },
   "file_extension": ".py",
   "mimetype": "text/x-python",
   "name": "python",
   "nbconvert_exporter": "python",
   "pygments_lexer": "ipython3",
   "version": "3.9.13"
  }
 },
 "nbformat": 4,
 "nbformat_minor": 5
}
